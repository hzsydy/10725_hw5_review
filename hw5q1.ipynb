{
 "cells": [
  {
   "cell_type": "markdown",
   "metadata": {},
   "source": [
    "Design and conduct an experiment to empirically investigate, for the   given class of functions $f=g+h$ (quadratic plus $\\ell_1$), the use of exact\n",
    "steps sizes in coordinate proximal gradient descent.  That is, we know (from parts (c) and (d)) that coordinate descent is the same as using exact line\n",
    "search at each step of coordinate proximal gradient descent; how much does this help over fixed step sizes, or backtracking line search?  \n"
   ]
  },
  {
   "cell_type": "markdown",
   "metadata": {},
   "source": [
    "Some general tips: be completely explicit about all your experimental design choices; think in particular about the problem conditioning; use figures rather than tables to report what you find; aggregate results over multiple simulation  instances. "
   ]
  },
  {
   "cell_type": "code",
   "execution_count": 2,
   "metadata": {},
   "outputs": [],
   "source": [
    "import numpy as np\n",
    "import scipy.optimize\n",
    "lamda = 1\n",
    "nr_vars = 19"
   ]
  },
  {
   "cell_type": "code",
   "execution_count": 3,
   "metadata": {},
   "outputs": [],
   "source": [
    "def g(x):\n",
    "    return x.T@Q@x/2.-b@x\n",
    "def nabla_g(x):\n",
    "    return Q@x-b\n",
    "def h(x, lamda):\n",
    "    return lamda*np.sum(np.abs(x))"
   ]
  },
  {
   "cell_type": "code",
   "execution_count": 4,
   "metadata": {},
   "outputs": [],
   "source": [
    "def prox_h(x, t, lamda):\n",
    "    return np.sign(x)*np.maximum(0,np.abs(x)-t*lamda)"
   ]
  },
  {
   "cell_type": "code",
   "execution_count": 5,
   "metadata": {},
   "outputs": [],
   "source": [
    "def update_x(x, i, t, lamda):\n",
    "    x_prime = prox_h(x[i] - t*nabla_g(x)[i], t, lamda)\n",
    "    x_copy = x.copy()\n",
    "    x_copy[i] = x_prime\n",
    "    return x_copy\n",
    "\n",
    "# the dirty function\n",
    "def func_to_optimize_t(x, i, t, lamda):\n",
    "    x_copy = update_x(x, i, t, lamda)\n",
    "    val = g(x_copy)+h(x_copy, lamda)\n",
    "    # print('eval t=',t, 'val=', val)\n",
    "    return val"
   ]
  },
  {
   "cell_type": "code",
   "execution_count": 26,
   "metadata": {},
   "outputs": [],
   "source": [
    "def backtrack_proximal_update(x, i, lamda, t, shrinkage):\n",
    "    total_cnt = 0\n",
    "    gb = g(x)\n",
    "    ngb = nabla_g(x)\n",
    "    while True:\n",
    "        total_cnt += 1\n",
    "        new_x = update_x(x, i, t, lamda)\n",
    "        G = (x-new_x)/t\n",
    "        lhs = g(new_x)\n",
    "        rhs = gb - t*np.dot(ngb, G) + t/2*np.dot(G, G)\n",
    "        #print(lhs, rhs)\n",
    "        if lhs > rhs:\n",
    "            # print('shrinkage happen!')\n",
    "            t = shrinkage * t\n",
    "        else:\n",
    "            return new_x, total_cnt"
   ]
  },
  {
   "cell_type": "code",
   "execution_count": 27,
   "metadata": {},
   "outputs": [],
   "source": [
    "%matplotlib inline\n",
    "import matplotlib.pyplot as plt"
   ]
  },
  {
   "cell_type": "code",
   "execution_count": 70,
   "metadata": {},
   "outputs": [],
   "source": [
    "# setup\n",
    "A = np.random.randn(nr_vars, nr_vars)\n",
    "Q = A.T@A\n",
    "b = np.random.randn(nr_vars)\n",
    "x0 = np.random.randn(nr_vars)"
   ]
  },
  {
   "cell_type": "code",
   "execution_count": 71,
   "metadata": {},
   "outputs": [
    {
     "data": {
      "text/plain": [
       "<matplotlib.legend.Legend at 0x1e9cc5c8240>"
      ]
     },
     "execution_count": 71,
     "metadata": {},
     "output_type": "execute_result"
    },
    {
     "data": {
      "image/png": "[encoded data removed]",
      "text/plain": [
       "<Figure size 720x432 with 1 Axes>"
      ]
     },
     "metadata": {},
     "output_type": "display_data"
    }
   ],
   "source": [
    "\n",
    "x_best = x0\n",
    "x_fix = x0\n",
    "x_backtrace = x0\n",
    "\n",
    "f_best_arr = []\n",
    "f_fix_arr = []\n",
    "f_backtrace_arr = []\n",
    "cnt_backtrace_arr = []\n",
    "\n",
    "max_iter = 10\n",
    "\n",
    "for idx_iter in range(max_iter):\n",
    "    # inner (coordinate) loop\n",
    "    for idx_coord in range(nr_vars):\n",
    "        # show that any disturb make the function value higher\n",
    "        f_best = g(x_best)+h(x_best,lamda)\n",
    "        x_best = update_x(x_best, idx_coord, 1/Q[idx_coord, idx_coord], lamda)\n",
    "        \n",
    "        f_fix = g(x_fix)+h(x_fix,lamda)\n",
    "        x_fix = update_x(x_fix, idx_coord, 1e-2, lamda)\n",
    "        \n",
    "        f_backtrace = g(x_backtrace)+h(x_backtrace,lamda)\n",
    "        x_backtrace, backtrack_cnt = backtrack_proximal_update(x_backtrace, idx_coord, 1, lamda, shrinkage=0.8)\n",
    "        cnt_backtrace_arr.append(backtrack_cnt)\n",
    "        \n",
    "        f_best_arr.append(f_best)\n",
    "        f_fix_arr.append(f_fix)\n",
    "        f_backtrace_arr.append(f_backtrace)\n",
    "\n",
    "cnt_backtrace_arr = np.cumsum(cnt_backtrace_arr)\n",
    "        \n",
    "plt.figure(figsize=(10,6))\n",
    "plt.plot(range(nr_vars*max_iter), f_best_arr, label='Best t')\n",
    "plt.plot(range(nr_vars*max_iter), f_fix_arr, label='Fix t=1e-2')\n",
    "# plt.plot(cnt_backtrace_arr, f_backtrace_arr, label='Backtrace t=0.1, $\\\\beta$=0.8')\n",
    "# plt.xlabel('Total call to proximal op')\n",
    "plt.plot(range(nr_vars*max_iter), f_backtrace_arr, label='Backtrace t=1, $\\\\beta$=0.8')\n",
    "plt.xlabel('Total iterations')\n",
    "plt.ylabel('Criterion value')\n",
    "plt.legend()"
   ]
  },
  {
   "cell_type": "code",
   "execution_count": null,
   "metadata": {},
   "outputs": [],
   "source": []
  }
 ],
 "metadata": {
  "kernelspec": {
   "display_name": "Python 3",
   "language": "python",
   "name": "python3"
  },
  "language_info": {
   "codemirror_mode": {
    "name": "ipython",
    "version": 3
   },
   "file_extension": ".py",
   "mimetype": "text/x-python",
   "name": "python",
   "nbconvert_exporter": "python",
   "pygments_lexer": "ipython3",
   "version": "3.6.6"
  }
 },
 "nbformat": 4,
 "nbformat_minor": 4
}
